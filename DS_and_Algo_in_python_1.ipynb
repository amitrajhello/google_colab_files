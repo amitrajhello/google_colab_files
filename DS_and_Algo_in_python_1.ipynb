{
  "nbformat": 4,
  "nbformat_minor": 0,
  "metadata": {
    "colab": {
      "provenance": [],
      "mount_file_id": "15_SNp9llwOcG-gpv7OOHrhZE2zvJmZgr",
      "authorship_tag": "ABX9TyOXwsKJ3NJQi0Yh8p4jiHBY",
      "include_colab_link": true
    },
    "kernelspec": {
      "name": "python3",
      "display_name": "Python 3"
    },
    "language_info": {
      "name": "python"
    }
  },
  "cells": [
    {
      "cell_type": "markdown",
      "metadata": {
        "id": "view-in-github",
        "colab_type": "text"
      },
      "source": [
        "<a href=\"https://colab.research.google.com/github/amitrajhello/google_colab_files/blob/main/DS_and_Algo_in_python_1.ipynb\" target=\"_parent\"><img src=\"https://colab.research.google.com/assets/colab-badge.svg\" alt=\"Open In Colab\"/></a>"
      ]
    },
    {
      "cell_type": "code",
      "source": [
        "#python, django, flask, pandas, numpy, ai ml, dsa ---->>>backend engineer --->> Data Scientist in Fang\n",
        "2+9"
      ],
      "metadata": {
        "colab": {
          "base_uri": "https://localhost:8080/"
        },
        "id": "JfXVby_CH07Z",
        "outputId": "2c4fddaa-a952-4f96-9133-66f9d2948d11"
      },
      "execution_count": 1,
      "outputs": [
        {
          "output_type": "execute_result",
          "data": {
            "text/plain": [
              "11"
            ]
          },
          "metadata": {},
          "execution_count": 1
        }
      ]
    },
    {
      "cell_type": "code",
      "source": [
        "def add(a, b):\n",
        "  return a + b\n",
        "a = add(2,5)\n",
        "print(a)"
      ],
      "metadata": {
        "colab": {
          "base_uri": "https://localhost:8080/"
        },
        "id": "2qAZvjN7IIdW",
        "outputId": "14e63ccb-0044-492d-d0ba-b43871a724e9"
      },
      "execution_count": 2,
      "outputs": [
        {
          "output_type": "stream",
          "name": "stdout",
          "text": [
            "7\n"
          ]
        }
      ]
    },
    {
      "cell_type": "code",
      "source": [
        "#bubble sort\n",
        "\n",
        "def bubblesort(arr):\n",
        "  l = len(arr)\n",
        "  swapped = False\n",
        "\n",
        "  for i in range(l-1):\n",
        "    for j in range(l-i-1):\n",
        "      if (arr[j] > arr[j+1]):\n",
        "        arr[j], arr[j+1] = arr[j+1], arr[j]\n",
        "        swapped = True\n",
        "      if (swapped == False):\n",
        "        break\n",
        "  return arr\n"
      ],
      "metadata": {
        "id": "0CVLaS__IUR4"
      },
      "execution_count": 3,
      "outputs": []
    },
    {
      "cell_type": "code",
      "source": [
        "arr = [23, 22, 11, 7, 1]\n",
        "arr = bubblesort(arr)\n",
        "print(arr)"
      ],
      "metadata": {
        "colab": {
          "base_uri": "https://localhost:8080/"
        },
        "id": "hUokDrjnuABC",
        "outputId": "7b15b963-e43b-48bf-d534-5717b2c39ff9"
      },
      "execution_count": 4,
      "outputs": [
        {
          "output_type": "stream",
          "name": "stdout",
          "text": [
            "[1, 7, 11, 22, 23]\n"
          ]
        }
      ]
    },
    {
      "cell_type": "code",
      "source": [
        "#selection sort\n",
        "def selectionsort(arr):\n",
        "  for i in range(len(arr)- 1):\n",
        "    min = i\n",
        "    for j in range(i+1, len(arr)):\n",
        "      # check if the current element is less than min then swap min with that j element\n",
        "      if (arr[j] < arr[min]):\n",
        "        min = j\n",
        "      arr[min], arr[i] = arr[i], arr[min]\n",
        "  return arr\n"
      ],
      "metadata": {
        "id": "6-sFhxJUuIga"
      },
      "execution_count": 5,
      "outputs": []
    },
    {
      "cell_type": "code",
      "source": [
        "arr = [23, 22, 11, 7, 1]\n",
        "arr = selectionsort(arr)\n",
        "print(arr)"
      ],
      "metadata": {
        "colab": {
          "base_uri": "https://localhost:8080/"
        },
        "id": "bqWEbM08_EPR",
        "outputId": "4e6b1092-a896-49c2-b6c8-54e72818e9dd"
      },
      "execution_count": 6,
      "outputs": [
        {
          "output_type": "stream",
          "name": "stdout",
          "text": [
            "[1, 7, 11, 22, 23]\n"
          ]
        }
      ]
    },
    {
      "cell_type": "code",
      "source": [
        "#bubble sort\n",
        "def bubblesort1(arr):\n",
        "  for i in range(len(arr)-1):\n",
        "    swapped = False\n",
        "    for j in range(len(arr) - 1 - i):\n",
        "      if (arr[j] > arr[j+1]):\n",
        "        arr[j], arr[j+1] = arr[j+1], arr[j]\n",
        "        swapped = True\n",
        "      if (swapped == False):\n",
        "        break\n",
        "  return arr"
      ],
      "metadata": {
        "id": "FzTbI_Dy_Jab"
      },
      "execution_count": null,
      "outputs": []
    },
    {
      "cell_type": "code",
      "source": [
        "arr = [23, 22, 11, 7, 1]\n",
        "arr = bubblesort1(arr)\n",
        "print(arr)"
      ],
      "metadata": {
        "colab": {
          "base_uri": "https://localhost:8080/"
        },
        "id": "yZfKH5qfA6Hv",
        "outputId": "57066950-72ac-4974-cd70-c262e2ce4549"
      },
      "execution_count": null,
      "outputs": [
        {
          "output_type": "stream",
          "name": "stdout",
          "text": [
            "[1, 7, 11, 22, 23]\n"
          ]
        }
      ]
    },
    {
      "cell_type": "code",
      "source": [
        "#selection sort\n",
        "\n",
        "def selectionsort1(arr):\n",
        "  for i in range(len(arr)-1):\n",
        "    min = i\n",
        "    for j in range(i, len(arr)):\n",
        "      if(arr[j] < arr[min]):\n",
        "        min = j\n",
        "    arr[i], arr[min] = arr[min], arr[i]\n",
        "  return arr\n",
        "\n",
        "arr = [22, 55, 11, 32, 1]\n",
        "print(selectionsort1(arr))\n"
      ],
      "metadata": {
        "colab": {
          "base_uri": "https://localhost:8080/"
        },
        "id": "9YvVOLYmA86F",
        "outputId": "740eaaef-14cc-4962-9115-bef2c72293a2"
      },
      "execution_count": null,
      "outputs": [
        {
          "output_type": "stream",
          "name": "stdout",
          "text": [
            "[1, 11, 22, 32, 55]\n"
          ]
        }
      ]
    },
    {
      "cell_type": "code",
      "source": [],
      "metadata": {
        "id": "wwXvPbECC3XG"
      },
      "execution_count": null,
      "outputs": []
    }
  ]
}